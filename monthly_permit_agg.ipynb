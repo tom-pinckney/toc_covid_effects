{
 "cells": [
  {
   "cell_type": "code",
   "execution_count": 70,
   "metadata": {},
   "outputs": [],
   "source": [
    "import pandas as pd\n",
    "import json\n",
    "import requests\n",
    "from io import StringIO\n",
    "from datetime import datetime as dt"
   ]
  },
  {
   "cell_type": "code",
   "execution_count": 2,
   "metadata": {},
   "outputs": [],
   "source": [
    "url = 'https://data.townofcary.org/api/v2/catalog/datasets/cpd-crash-incidents/exports/csv?rows=-1&timezone=UTC&delimiter=%3B'\n",
    "headers = {'Accept': 'text/csv'}\n",
    "\n",
    "r = requests.get(url, headers)"
   ]
  },
  {
   "cell_type": "code",
   "execution_count": 3,
   "metadata": {},
   "outputs": [],
   "source": [
    "text_data = StringIO(r.text)\n",
    "crash_data = pd.read_csv(text_data, sep=';')\n",
    "crash_data.crash_date = pd.to_datetime(crash_data.crash_date)\n",
    "crash_data.loc[:, 'week'] = crash_data.crash_date.dt.week"
   ]
  },
  {
   "cell_type": "code",
   "execution_count": 59,
   "metadata": {},
   "outputs": [],
   "source": [
    "aggregated_crash_data = crash_data.groupby(['year', 'week']).apply(lambda x: pd.Series({\n",
    "    'crashes': x['tamainid'].count(),\n",
    "    'week_start': x['crash_date'].min()\n",
    "})).reset_index()\n",
    "\n",
    "# Give all the dates the same year for plotting purposes\n",
    "aggregated_crash_data.loc[:, 'week_start'] =aggregated_crash_data.week_start.apply(lambda x: x.replace(year=2000).date())\n",
    "aggregated_crash_data.loc[:, 'four_week_average'] = aggregated_crash_data['crashes'].rolling(4, min_periods=3).mean().values\n",
    "aggregated_crash_data.loc[:, 'four_week_average'] = aggregated_crash_data.groupby('year').transform(lambda x: x.fillna(method='bfill'))\n",
    "\n",
    "# Add groupings corresponding to each line we need to draw separately\n",
    "aggregated_crash_data.loc[:, 'group'] = aggregated_crash_data.year\n",
    "aggregated_crash_data.loc[\n",
    "    (aggregated_crash_data.year == 2020) &\n",
    "    (aggregated_crash_data.week <= 11), 'group'] = 20201\n",
    "aggregated_crash_data.loc[\n",
    "    (aggregated_crash_data.year == 2020) &\n",
    "    (aggregated_crash_data.week > 11), 'group'] = 20202\n",
    "aggregated_crash_data.loc[\n",
    "    (aggregated_crash_data.year == 2020) &\n",
    "    (aggregated_crash_data.week > 21), 'group'] = 20203"
   ]
  },
  {
   "cell_type": "code",
   "execution_count": 66,
   "metadata": {},
   "outputs": [],
   "source": [
    "# Add in the last entry of each 2020 group to the next group\n",
    "last_20201 = aggregated_crash_data.loc[(aggregated_crash_data.week == 11) & (aggregated_crash_data.year==2020)]\n",
    "last_20202 = aggregated_crash_data.loc[(aggregated_crash_data.week == 21) & (aggregated_crash_data.year==2020)]\n",
    "last_20201.loc[:, 'group']  = 20202\n",
    "last_20202.loc[:, 'group']  = 20203\n",
    "\n",
    "aggregated_crash_data = pd.concat([aggregated_crash_data, last_20201, last_20202])"
   ]
  },
  {
   "cell_type": "code",
   "execution_count": 80,
   "metadata": {},
   "outputs": [],
   "source": [
    "aggregated_crash_data.loc[(aggregated_crash_data.week >= 52) & (aggregated_crash_data.week_start < dt(2000, 12, 1).date()), 'week_start'] = dt(2000, 12, 30).date()"
   ]
  },
  {
   "cell_type": "code",
   "execution_count": 83,
   "metadata": {},
   "outputs": [],
   "source": [
    "aggregated_crash_data = aggregated_crash_data.sort_values(by=['year', 'week'])\n",
    "aggregated_crash_data.to_csv('data/weekly_crashes.csv', index=False)"
   ]
  }
 ],
 "metadata": {
  "kernelspec": {
   "display_name": "Python 3",
   "language": "python",
   "name": "python3"
  },
  "language_info": {
   "codemirror_mode": {
    "name": "ipython",
    "version": 3
   },
   "file_extension": ".py",
   "mimetype": "text/x-python",
   "name": "python",
   "nbconvert_exporter": "python",
   "pygments_lexer": "ipython3",
   "version": "3.7.3"
  }
 },
 "nbformat": 4,
 "nbformat_minor": 4
}
